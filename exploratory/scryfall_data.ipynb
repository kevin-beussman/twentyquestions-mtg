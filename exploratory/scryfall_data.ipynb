{
 "cells": [
  {
   "cell_type": "code",
   "execution_count": 34,
   "metadata": {},
   "outputs": [
    {
     "name": "stdout",
     "output_type": "stream",
     "text": [
      "Total number of cards: 31064.\n",
      "Number of fields per card: 61.\n",
      "(0, 'object')\n",
      "(1, 'id')\n",
      "(2, 'oracle_id')\n",
      "(3, 'multiverse_ids')\n",
      "(4, 'mtgo_id')\n",
      "(5, 'mtgo_foil_id')\n",
      "(6, 'tcgplayer_id')\n",
      "(7, 'cardmarket_id')\n",
      "(8, 'name')\n",
      "(9, 'lang')\n",
      "(10, 'released_at')\n",
      "(11, 'uri')\n",
      "(12, 'scryfall_uri')\n",
      "(13, 'layout')\n",
      "(14, 'highres_image')\n",
      "(15, 'image_status')\n",
      "(16, 'image_uris')\n",
      "(17, 'mana_cost')\n",
      "(18, 'cmc')\n",
      "(19, 'type_line')\n",
      "(20, 'oracle_text')\n",
      "(21, 'colors')\n",
      "(22, 'color_identity')\n",
      "(23, 'keywords')\n",
      "(24, 'legalities')\n",
      "(25, 'games')\n",
      "(26, 'reserved')\n",
      "(27, 'foil')\n",
      "(28, 'nonfoil')\n",
      "(29, 'finishes')\n",
      "(30, 'oversized')\n",
      "(31, 'promo')\n",
      "(32, 'reprint')\n",
      "(33, 'variation')\n",
      "(34, 'set_id')\n",
      "(35, 'set')\n",
      "(36, 'set_name')\n",
      "(37, 'set_type')\n",
      "(38, 'set_uri')\n",
      "(39, 'set_search_uri')\n",
      "(40, 'scryfall_set_uri')\n",
      "(41, 'rulings_uri')\n",
      "(42, 'prints_search_uri')\n",
      "(43, 'collector_number')\n",
      "(44, 'digital')\n",
      "(45, 'rarity')\n",
      "(46, 'flavor_text')\n",
      "(47, 'card_back_id')\n",
      "(48, 'artist')\n",
      "(49, 'artist_ids')\n",
      "(50, 'illustration_id')\n",
      "(51, 'border_color')\n",
      "(52, 'frame')\n",
      "(53, 'full_art')\n",
      "(54, 'textless')\n",
      "(55, 'booster')\n",
      "(56, 'story_spotlight')\n",
      "(57, 'edhrec_rank')\n",
      "(58, 'prices')\n",
      "(59, 'related_uris')\n",
      "(60, 'purchase_uris')\n"
     ]
    }
   ],
   "source": [
    "# using json\n",
    "import json\n",
    "\n",
    "with open(\"../data/oracle-cards-20240301220151.json\") as json_file:\n",
    "    dataset = json.load(json_file)\n",
    "\n",
    "print(f\"Total number of cards: {len(dataset)}.\")\n",
    "print(f\"Number of fields per card: {len(dataset[0].keys())}.\")\n",
    "print(\"\\n\".join([str(x) for x in enumerate(dataset[0].keys())]))\n"
   ]
  },
  {
   "cell_type": "code",
   "execution_count": 66,
   "metadata": {},
   "outputs": [
    {
     "name": "stdout",
     "output_type": "stream",
     "text": [
      "Card(name='Storm Crow', mana_cost='{1}{U}', cmc=2.0, colors=['U'], oracle_text=\"Flying (This creature can't be blocked except by creatures with flying or reach.)\", keywords=['Flying'], type_line='Creature — Bird', legalities={'standard': 'not_legal', 'future': 'not_legal', 'historic': 'not_legal', 'timeless': 'not_legal', 'gladiator': 'not_legal', 'pioneer': 'not_legal', 'explorer': 'not_legal', 'modern': 'legal', 'legacy': 'legal', 'pauper': 'legal', 'vintage': 'legal', 'penny': 'not_legal', 'commander': 'legal', 'oathbreaker': 'legal', 'standardbrawl': 'not_legal', 'brawl': 'not_legal', 'alchemy': 'not_legal', 'paupercommander': 'legal', 'duel': 'legal', 'oldschool': 'not_legal', 'premodern': 'legal', 'predh': 'legal'})\n"
     ]
    }
   ],
   "source": [
    "# using msgspec\n",
    "import msgspec\n",
    "\n",
    "class Card(msgspec.Struct, dict=True):\n",
    "    name: str | None = None\n",
    "    mana_cost: str | None = None\n",
    "    cmc: float | None = None\n",
    "    colors: list[str] | None = None\n",
    "    oracle_text: str | None = None\n",
    "    keywords: list[str] | None = None\n",
    "    type_line: str | None = None\n",
    "    legalities: dict[str, str] | None = None\n",
    "\n",
    "with open(\"../data/oracle-cards-20240301220151.json\", \"rb\") as json_file:\n",
    "    dataset = msgspec.json.decode(json_file.read(), type=list[Card])\n",
    "\n",
    "print(dataset[3])\n"
   ]
  },
  {
   "cell_type": "code",
   "execution_count": 65,
   "metadata": {},
   "outputs": [
    {
     "name": "stdout",
     "output_type": "stream",
     "text": [
      "cmc\n",
      "3.0          6709\n",
      "2.0          5820\n",
      "4.0          5369\n",
      "0.0          3993\n",
      "5.0          3359\n",
      "1.0          2820\n",
      "6.0          1787\n",
      "7.0           755\n",
      "8.0           270\n",
      "9.0            94\n",
      "10.0           44\n",
      "11.0           15\n",
      "12.0           15\n",
      "15.0            8\n",
      "13.0            2\n",
      "16.0            1\n",
      "14.0            1\n",
      "0.5             1\n",
      "1000000.0       1\n",
      "Name: count, dtype: int64\n"
     ]
    }
   ],
   "source": [
    "# convert to pandas\n",
    "import pandas\n",
    "import numpy\n",
    "\n",
    "test = pandas.DataFrame([msgspec.structs.asdict(card) for card in dataset])\n",
    "print(test[\"cmc\"].value_counts())\n",
    "\n",
    "# print(\"\\n\".join(numpy.unique(test[\"keywords\"].sum())))"
   ]
  }
 ],
 "metadata": {
  "kernelspec": {
   "display_name": ".venv",
   "language": "python",
   "name": "python3"
  },
  "language_info": {
   "codemirror_mode": {
    "name": "ipython",
    "version": 3
   },
   "file_extension": ".py",
   "mimetype": "text/x-python",
   "name": "python",
   "nbconvert_exporter": "python",
   "pygments_lexer": "ipython3",
   "version": "3.12.0"
  }
 },
 "nbformat": 4,
 "nbformat_minor": 2
}
